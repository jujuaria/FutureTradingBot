{
 "cells": [
  {
   "cell_type": "code",
   "execution_count": 2,
   "metadata": {},
   "outputs": [],
   "source": [
    "import matplotlib.pyplot as plt\n",
    "from arch import arch_model\n",
    "import pandas_ta\n",
    "import pandas as pd\n",
    "import numpy as np\n",
    "import os\n",
    "import yfinance as yf\n",
    "from datetime import datetime, date, timedelta\n",
    "import xgboost as xgb\n",
    "from sklearn.model_selection import train_test_split\n",
    "from sklearn.preprocessing import StandardScaler\n",
    "from sklearn.metrics import mean_absolute_error, mean_squared_error\n",
    "from scipy.signal import argrelextrema\n"
   ]
  },
  {
   "cell_type": "code",
   "execution_count": null,
   "metadata": {},
   "outputs": [],
   "source": [
    "from dotenv import load_dotenv\n",
    "\n",
    "load_dotenv()\n",
    "# Retrieve the API key from the environment variable\n",
    "databento_api_key = os.getenv(\"DATABENTO_API_KEY\")\n",
    "if not databento_api_key:\n",
    "    raise ValueError(\"Please set the DATABENTO_API_KEY environment variable.\")"
   ]
  },
  {
   "cell_type": "code",
   "execution_count": null,
   "metadata": {},
   "outputs": [
    {
     "name": "stdout",
     "output_type": "stream",
     "text": [
      "Sleeping for 283.25 seconds until next batch store at 2025-03-04 18:20:00 UTC.\n"
     ]
    }
   ],
   "source": [
    "import databento as db\n",
    "import time\n",
    "from datetime import datetime, timedelta\n",
    "import threading\n",
    "\n",
    "# Global buffer to store incoming 1-minute records for the batch period\n",
    "buffer = []\n",
    "\n",
    "def handle_message(msg):\n",
    "    \"\"\"\n",
    "    Callback function to process incoming messages.\n",
    "    For example, this processes OHLCV messages.\n",
    "    \"\"\"\n",
    "    if isinstance(msg, db.OhlcvMsg):\n",
    "        record = {\n",
    "            \"ts_event\": pd.to_datetime(msg.hd.ts_event, unit=\"ns\"),\n",
    "            \"open\": msg.open,\n",
    "            \"high\": msg.high,\n",
    "            \"low\": msg.low,\n",
    "            \"close\": msg.close,\n",
    "            \"volume\": msg.volume,\n",
    "            \"instrument_id\": msg.hd.instrument_id,\n",
    "        }\n",
    "        buffer.append(record)\n",
    "    else:\n",
    "        # Handle other message types if needed.\n",
    "        pass\n",
    "\n",
    "def store_buffer():\n",
    "    \"\"\"\n",
    "    Convert the buffered records to a DataFrame and store them (e.g. append to a CSV).\n",
    "    Then clear the buffer.\n",
    "    \"\"\"\n",
    "    global buffer\n",
    "    if buffer:\n",
    "        df_batch = pd.DataFrame(buffer)\n",
    "        # Append to CSV file; if file doesn't exist, header is written automatically.\n",
    "        # You can change the storage mechanism as needed (e.g., database insert).\n",
    "        try:\n",
    "            header = not pd.io.common.file_exists(\"5min_data.csv\")\n",
    "        except Exception:\n",
    "            header = True\n",
    "        df_batch.to_csv(\"5min_data.csv\", mode=\"a\", index=False, header=header)\n",
    "        print(f\"Stored batch of {len(buffer)} records at {datetime.utcnow()}\")\n",
    "        buffer = []\n",
    "\n",
    "def run_batch_store():\n",
    "    \"\"\"\n",
    "    Background thread that waits until the next 5-minute mark (UTC) to store the data.\n",
    "    \"\"\"\n",
    "    while True:\n",
    "        now = datetime.utcnow()\n",
    "        # Compute the next 5-minute mark:\n",
    "        # Floor current time to nearest 5-min mark and add 5 minutes.\n",
    "        minutes = (now.minute // 5) * 5\n",
    "        next_batch_time = now.replace(minute=minutes, second=0, microsecond=0) + timedelta(minutes=5)\n",
    "        sleep_seconds = (next_batch_time - now).total_seconds()\n",
    "        print(f\"Sleeping for {sleep_seconds:.2f} seconds until next batch store at {next_batch_time} UTC.\")\n",
    "        time.sleep(sleep_seconds)\n",
    "        store_buffer()\n",
    "\n",
    "# Start the background storage thread (daemon thread so it exits with main thread)\n",
    "storage_thread = threading.Thread(target=run_batch_store, daemon=True)\n",
    "storage_thread.start()\n",
    "\n",
    "# Create a live Databento client (replace with your actual API key)\n",
    "client = db.Live(key=databento_api_key)\n",
    "\n",
    "# Subscribe to 1-minute OHLCV data for ES futures.\n",
    "client.subscribe(\n",
    "    dataset=\"GLBX.MDP3\",\n",
    "    schema=\"OHLCV-1m\",\n",
    "    stype_in=\"parent\",\n",
    "    symbols=\"ES.FUT\",\n",
    ")\n",
    "\n",
    "# Set the callback to process incoming messages.\n",
    "client.add_callback(handle_message)\n",
    "\n",
    "# Start the live stream (this call is blocking).\n",
    "client.start()"
   ]
  },
  {
   "cell_type": "code",
   "execution_count": 3,
   "metadata": {},
   "outputs": [],
   "source": [
    "client.terminate()"
   ]
  },
  {
   "cell_type": "code",
   "execution_count": null,
   "metadata": {},
   "outputs": [],
   "source": []
  },
  {
   "cell_type": "code",
   "execution_count": null,
   "metadata": {},
   "outputs": [],
   "source": [
    "databento_api_key"
   ]
  },
  {
   "cell_type": "code",
   "execution_count": 5,
   "metadata": {},
   "outputs": [
    {
     "ename": "ValueError",
     "evalue": "Cannot start iteration after streaming has started, records may be missed. Don't call `Live.start` before iterating.",
     "output_type": "error",
     "traceback": [
      "\u001b[0;31m---------------------------------------------------------------------------\u001b[0m",
      "\u001b[0;31mValueError\u001b[0m                                Traceback (most recent call last)",
      "Cell \u001b[0;32mIn[5], line 1\u001b[0m\n\u001b[0;32m----> 1\u001b[0m \u001b[38;5;28;01mfor\u001b[39;00m message \u001b[38;5;129;01min\u001b[39;00m client:\n\u001b[1;32m      2\u001b[0m     \u001b[38;5;66;03m# Process each message (e.g., print or store it)\u001b[39;00m\n\u001b[1;32m      3\u001b[0m     \u001b[38;5;28mprint\u001b[39m(message)\n",
      "File \u001b[0;32m/opt/anaconda3/lib/python3.11/site-packages/databento/live/client.py:128\u001b[0m, in \u001b[0;36mLive.__iter__\u001b[0;34m(self)\u001b[0m\n\u001b[1;32m    126\u001b[0m \u001b[38;5;28;01mif\u001b[39;00m \u001b[38;5;28mself\u001b[39m\u001b[38;5;241m.\u001b[39m_session\u001b[38;5;241m.\u001b[39mis_streaming():\n\u001b[1;32m    127\u001b[0m     logger\u001b[38;5;241m.\u001b[39merror(\u001b[38;5;124m\"\u001b[39m\u001b[38;5;124miteration started after session has started\u001b[39m\u001b[38;5;124m\"\u001b[39m)\n\u001b[0;32m--> 128\u001b[0m     \u001b[38;5;28;01mraise\u001b[39;00m \u001b[38;5;167;01mValueError\u001b[39;00m(\n\u001b[1;32m    129\u001b[0m         \u001b[38;5;124m\"\u001b[39m\u001b[38;5;124mCannot start iteration after streaming has started, records may be missed. Don\u001b[39m\u001b[38;5;124m'\u001b[39m\u001b[38;5;124mt call `Live.start` before iterating.\u001b[39m\u001b[38;5;124m\"\u001b[39m,\n\u001b[1;32m    130\u001b[0m     )\n\u001b[1;32m    131\u001b[0m \u001b[38;5;28;01mreturn\u001b[39;00m LiveIterator(\u001b[38;5;28mself\u001b[39m)\n",
      "\u001b[0;31mValueError\u001b[0m: Cannot start iteration after streaming has started, records may be missed. Don't call `Live.start` before iterating."
     ]
    }
   ],
   "source": [
    "for message in client:\n",
    "    # Process each message (e.g., print or store it)\n",
    "    print(message)"
   ]
  },
  {
   "cell_type": "code",
   "execution_count": null,
   "metadata": {},
   "outputs": [],
   "source": []
  }
 ],
 "metadata": {
  "kernelspec": {
   "display_name": "base",
   "language": "python",
   "name": "python3"
  },
  "language_info": {
   "codemirror_mode": {
    "name": "ipython",
    "version": 3
   },
   "file_extension": ".py",
   "mimetype": "text/x-python",
   "name": "python",
   "nbconvert_exporter": "python",
   "pygments_lexer": "ipython3",
   "version": "3.11.8"
  }
 },
 "nbformat": 4,
 "nbformat_minor": 2
}
