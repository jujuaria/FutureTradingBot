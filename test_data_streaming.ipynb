{
 "cells": [
  {
   "cell_type": "code",
   "execution_count": 5,
   "metadata": {},
   "outputs": [
    {
     "ename": "ModuleNotFoundError",
     "evalue": "No module named 'arch'",
     "output_type": "error",
     "traceback": [
      "\u001b[0;31m---------------------------------------------------------------------------\u001b[0m",
      "\u001b[0;31mModuleNotFoundError\u001b[0m                       Traceback (most recent call last)",
      "Cell \u001b[0;32mIn[5], line 2\u001b[0m\n\u001b[1;32m      1\u001b[0m \u001b[38;5;28;01mimport\u001b[39;00m\u001b[38;5;250m \u001b[39m\u001b[38;5;21;01mmatplotlib\u001b[39;00m\u001b[38;5;21;01m.\u001b[39;00m\u001b[38;5;21;01mpyplot\u001b[39;00m\u001b[38;5;250m \u001b[39m\u001b[38;5;28;01mas\u001b[39;00m\u001b[38;5;250m \u001b[39m\u001b[38;5;21;01mplt\u001b[39;00m\n\u001b[0;32m----> 2\u001b[0m \u001b[38;5;28;01mfrom\u001b[39;00m\u001b[38;5;250m \u001b[39m\u001b[38;5;21;01march\u001b[39;00m\u001b[38;5;250m \u001b[39m\u001b[38;5;28;01mimport\u001b[39;00m arch_model\n\u001b[1;32m      3\u001b[0m \u001b[38;5;28;01mimport\u001b[39;00m\u001b[38;5;250m \u001b[39m\u001b[38;5;21;01mpandas_ta\u001b[39;00m\n\u001b[1;32m      4\u001b[0m \u001b[38;5;28;01mimport\u001b[39;00m\u001b[38;5;250m \u001b[39m\u001b[38;5;21;01mpandas\u001b[39;00m\u001b[38;5;250m \u001b[39m\u001b[38;5;28;01mas\u001b[39;00m\u001b[38;5;250m \u001b[39m\u001b[38;5;21;01mpd\u001b[39;00m\n",
      "\u001b[0;31mModuleNotFoundError\u001b[0m: No module named 'arch'"
     ]
    }
   ],
   "source": [
    "import matplotlib.pyplot as plt\n",
    "from arch import arch_model\n",
    "import pandas_ta\n",
    "import pandas as pd\n",
    "import numpy as np\n",
    "import os\n",
    "import yfinance as yf\n",
    "from datetime import datetime, date, timedelta\n",
    "import xgboost as xgb\n",
    "from sklearn.model_selection import train_test_split\n",
    "from sklearn.preprocessing import StandardScaler\n",
    "from sklearn.metrics import mean_absolute_error, mean_squared_error\n",
    "from scipy.signal import argrelextrema\n"
   ]
  },
  {
   "cell_type": "code",
   "execution_count": 1,
   "metadata": {},
   "outputs": [],
   "source": [
    "import os\n",
    "import time\n",
    "import boto3\n",
    "import databento as db\n",
    "from datetime import datetime"
   ]
  },
  {
   "cell_type": "code",
   "execution_count": 4,
   "metadata": {},
   "outputs": [
    {
     "name": "stdout",
     "output_type": "stream",
     "text": [
      "[2025-03-05 04:45:50.581532] Starting a new 15-minute batch...\n",
      "[2025-03-05 04:47:51.013944] Uploaded dbn_20250305T044550Z.dbn to s3://amazon-sagemaker-073160386915-us-east-2-10949371548f/es_1m_data/dbn_20250305T044550Z.dbn\n",
      "[2025-03-05 04:47:51.014247] Deleted local file dbn_20250305T044550Z.dbn.\n",
      "[2025-03-05 04:47:51.015604] Starting a new 15-minute batch...\n",
      "[2025-03-05 04:49:51.434396] Uploaded dbn_20250305T044751Z.dbn to s3://amazon-sagemaker-073160386915-us-east-2-10949371548f/es_1m_data/dbn_20250305T044751Z.dbn\n",
      "[2025-03-05 04:49:51.434772] Deleted local file dbn_20250305T044751Z.dbn.\n",
      "[2025-03-05 04:49:51.436376] Starting a new 15-minute batch...\n"
     ]
    },
    {
     "ename": "KeyboardInterrupt",
     "evalue": "",
     "output_type": "error",
     "traceback": [
      "\u001b[0;31m---------------------------------------------------------------------------\u001b[0m",
      "\u001b[0;31mKeyboardInterrupt\u001b[0m                         Traceback (most recent call last)",
      "Cell \u001b[0;32mIn[4], line 85\u001b[0m\n\u001b[1;32m     81\u001b[0m         \u001b[38;5;66;03m# If you want a pause between batches, add time.sleep(seconds) here\u001b[39;00m\n\u001b[1;32m     82\u001b[0m         \u001b[38;5;66;03m# e.g. time.sleep(60) to wait 1 minute before next batch\u001b[39;00m\n\u001b[1;32m     84\u001b[0m \u001b[38;5;28;01mif\u001b[39;00m \u001b[38;5;18m__name__\u001b[39m \u001b[38;5;241m==\u001b[39m \u001b[38;5;124m\"\u001b[39m\u001b[38;5;124m__main__\u001b[39m\u001b[38;5;124m\"\u001b[39m:\n\u001b[0;32m---> 85\u001b[0m     \u001b[43mmain\u001b[49m\u001b[43m(\u001b[49m\u001b[43m)\u001b[49m\n",
      "Cell \u001b[0;32mIn[4], line 80\u001b[0m, in \u001b[0;36mmain\u001b[0;34m()\u001b[0m\n\u001b[1;32m     78\u001b[0m \u001b[38;5;28;01mwhile\u001b[39;00m \u001b[38;5;28;01mTrue\u001b[39;00m:\n\u001b[1;32m     79\u001b[0m     \u001b[38;5;28mprint\u001b[39m(\u001b[38;5;124mf\u001b[39m\u001b[38;5;124m\"\u001b[39m\u001b[38;5;124m[\u001b[39m\u001b[38;5;132;01m{\u001b[39;00mdatetime\u001b[38;5;241m.\u001b[39mutcnow()\u001b[38;5;132;01m}\u001b[39;00m\u001b[38;5;124m] Starting a new 15-minute batch...\u001b[39m\u001b[38;5;124m\"\u001b[39m)\n\u001b[0;32m---> 80\u001b[0m     \u001b[43mrun_single_batch\u001b[49m\u001b[43m(\u001b[49m\u001b[43m)\u001b[49m\n",
      "Cell \u001b[0;32mIn[4], line 46\u001b[0m, in \u001b[0;36mrun_single_batch\u001b[0;34m()\u001b[0m\n\u001b[1;32m     43\u001b[0m client\u001b[38;5;241m.\u001b[39mstart()\n\u001b[1;32m     45\u001b[0m \u001b[38;5;66;03m# Block for batch_duration seconds, then close\u001b[39;00m\n\u001b[0;32m---> 46\u001b[0m \u001b[43mclient\u001b[49m\u001b[38;5;241;43m.\u001b[39;49m\u001b[43mblock_for_close\u001b[49m\u001b[43m(\u001b[49m\u001b[43mtimeout\u001b[49m\u001b[38;5;241;43m=\u001b[39;49m\u001b[43mbatch_duration\u001b[49m\u001b[43m)\u001b[49m\n\u001b[1;32m     48\u001b[0m \u001b[38;5;66;03m# After streaming finishes, optionally read the DBN file to verify\u001b[39;00m\n\u001b[1;32m     49\u001b[0m \u001b[38;5;66;03m# (Comment this out if you don't need to verify locally)\u001b[39;00m\n\u001b[1;32m     50\u001b[0m \u001b[38;5;66;03m# store = db.DBNStore.from_file(local_filename)\u001b[39;00m\n\u001b[0;32m   (...)\u001b[0m\n\u001b[1;32m     53\u001b[0m \n\u001b[1;32m     54\u001b[0m \u001b[38;5;66;03m# Upload the DBN file to S3\u001b[39;00m\n\u001b[1;32m     55\u001b[0m s3_key \u001b[38;5;241m=\u001b[39m \u001b[38;5;124mf\u001b[39m\u001b[38;5;124m\"\u001b[39m\u001b[38;5;132;01m{\u001b[39;00ms3_folder\u001b[38;5;132;01m}\u001b[39;00m\u001b[38;5;124m/\u001b[39m\u001b[38;5;132;01m{\u001b[39;00mlocal_filename\u001b[38;5;132;01m}\u001b[39;00m\u001b[38;5;124m\"\u001b[39m\n",
      "File \u001b[0;32m/opt/conda/lib/python3.11/site-packages/databento/live/client.py:551\u001b[0m, in \u001b[0;36mLive.block_for_close\u001b[0;34m(self, timeout)\u001b[0m\n\u001b[1;32m    522\u001b[0m \u001b[38;5;250m\u001b[39m\u001b[38;5;124;03m\"\"\"\u001b[39;00m\n\u001b[1;32m    523\u001b[0m \u001b[38;5;124;03mBlock until the session closes or a timeout is reached. A session will\u001b[39;00m\n\u001b[1;32m    524\u001b[0m \u001b[38;5;124;03mclose after `Live.stop` is called or the remote gateway disconnects.\u001b[39;00m\n\u001b[0;32m   (...)\u001b[0m\n\u001b[1;32m    545\u001b[0m \n\u001b[1;32m    546\u001b[0m \u001b[38;5;124;03m\"\"\"\u001b[39;00m\n\u001b[1;32m    547\u001b[0m \u001b[38;5;28;01mtry\u001b[39;00m:\n\u001b[1;32m    548\u001b[0m     \u001b[43masyncio\u001b[49m\u001b[38;5;241;43m.\u001b[39;49m\u001b[43mrun_coroutine_threadsafe\u001b[49m\u001b[43m(\u001b[49m\n\u001b[1;32m    549\u001b[0m \u001b[43m        \u001b[49m\u001b[38;5;28;43mself\u001b[39;49m\u001b[38;5;241;43m.\u001b[39;49m\u001b[43m_session\u001b[49m\u001b[38;5;241;43m.\u001b[39;49m\u001b[43mwait_for_close\u001b[49m\u001b[43m(\u001b[49m\u001b[43m)\u001b[49m\u001b[43m,\u001b[49m\n\u001b[1;32m    550\u001b[0m \u001b[43m        \u001b[49m\u001b[43mloop\u001b[49m\u001b[38;5;241;43m=\u001b[39;49m\u001b[43mLive\u001b[49m\u001b[38;5;241;43m.\u001b[39;49m\u001b[43m_loop\u001b[49m\u001b[43m,\u001b[49m\n\u001b[0;32m--> 551\u001b[0m \u001b[43m    \u001b[49m\u001b[43m)\u001b[49m\u001b[38;5;241;43m.\u001b[39;49m\u001b[43mresult\u001b[49m\u001b[43m(\u001b[49m\u001b[43mtimeout\u001b[49m\u001b[38;5;241;43m=\u001b[39;49m\u001b[43mtimeout\u001b[49m\u001b[43m)\u001b[49m\n\u001b[1;32m    552\u001b[0m \u001b[38;5;28;01mexcept\u001b[39;00m (futures\u001b[38;5;241m.\u001b[39mTimeoutError, \u001b[38;5;167;01mKeyboardInterrupt\u001b[39;00m) \u001b[38;5;28;01mas\u001b[39;00m exc:\n\u001b[1;32m    553\u001b[0m     logger\u001b[38;5;241m.\u001b[39minfo(\u001b[38;5;124m\"\u001b[39m\u001b[38;5;124mclosing session due to \u001b[39m\u001b[38;5;132;01m%s\u001b[39;00m\u001b[38;5;124m\"\u001b[39m, \u001b[38;5;28mtype\u001b[39m(exc)\u001b[38;5;241m.\u001b[39m\u001b[38;5;18m__name__\u001b[39m)\n",
      "File \u001b[0;32m/opt/conda/lib/python3.11/concurrent/futures/_base.py:451\u001b[0m, in \u001b[0;36mFuture.result\u001b[0;34m(self, timeout)\u001b[0m\n\u001b[1;32m    448\u001b[0m \u001b[38;5;28;01melif\u001b[39;00m \u001b[38;5;28mself\u001b[39m\u001b[38;5;241m.\u001b[39m_state \u001b[38;5;241m==\u001b[39m FINISHED:\n\u001b[1;32m    449\u001b[0m     \u001b[38;5;28;01mreturn\u001b[39;00m \u001b[38;5;28mself\u001b[39m\u001b[38;5;241m.\u001b[39m__get_result()\n\u001b[0;32m--> 451\u001b[0m \u001b[38;5;28;43mself\u001b[39;49m\u001b[38;5;241;43m.\u001b[39;49m\u001b[43m_condition\u001b[49m\u001b[38;5;241;43m.\u001b[39;49m\u001b[43mwait\u001b[49m\u001b[43m(\u001b[49m\u001b[43mtimeout\u001b[49m\u001b[43m)\u001b[49m\n\u001b[1;32m    453\u001b[0m \u001b[38;5;28;01mif\u001b[39;00m \u001b[38;5;28mself\u001b[39m\u001b[38;5;241m.\u001b[39m_state \u001b[38;5;129;01min\u001b[39;00m [CANCELLED, CANCELLED_AND_NOTIFIED]:\n\u001b[1;32m    454\u001b[0m     \u001b[38;5;28;01mraise\u001b[39;00m CancelledError()\n",
      "File \u001b[0;32m/opt/conda/lib/python3.11/threading.py:331\u001b[0m, in \u001b[0;36mCondition.wait\u001b[0;34m(self, timeout)\u001b[0m\n\u001b[1;32m    329\u001b[0m \u001b[38;5;28;01melse\u001b[39;00m:\n\u001b[1;32m    330\u001b[0m     \u001b[38;5;28;01mif\u001b[39;00m timeout \u001b[38;5;241m>\u001b[39m \u001b[38;5;241m0\u001b[39m:\n\u001b[0;32m--> 331\u001b[0m         gotit \u001b[38;5;241m=\u001b[39m \u001b[43mwaiter\u001b[49m\u001b[38;5;241;43m.\u001b[39;49m\u001b[43macquire\u001b[49m\u001b[43m(\u001b[49m\u001b[38;5;28;43;01mTrue\u001b[39;49;00m\u001b[43m,\u001b[49m\u001b[43m \u001b[49m\u001b[43mtimeout\u001b[49m\u001b[43m)\u001b[49m\n\u001b[1;32m    332\u001b[0m     \u001b[38;5;28;01melse\u001b[39;00m:\n\u001b[1;32m    333\u001b[0m         gotit \u001b[38;5;241m=\u001b[39m waiter\u001b[38;5;241m.\u001b[39macquire(\u001b[38;5;28;01mFalse\u001b[39;00m)\n",
      "\u001b[0;31mKeyboardInterrupt\u001b[0m: "
     ]
    }
   ],
   "source": [
    "\n",
    "###############################\n",
    "# Configuration\n",
    "###############################\n",
    "\n",
    "# Retrieve your Databento API key from environment\n",
    "databento_api_key = \"db-qLNS3JYakWiWWLtyV68KUFSUAnpE6\"\n",
    "\n",
    "# S3 settings\n",
    "s3_bucket = \"amazon-sagemaker-073160386915-us-east-2-10949371548f\"     # Replace with your actual bucket name\n",
    "s3_folder = \"es_1m_data\"      # Folder (prefix) where files are stored in S3\n",
    "\n",
    "# How long to stream data each batch (in seconds)\n",
    "batch_duration = 120  # 15 minutes\n",
    "\n",
    "###############################\n",
    "# Functions\n",
    "###############################\n",
    "\n",
    "def run_single_batch():\n",
    "    \"\"\"\n",
    "    Runs a single 15-minute batch of streaming data from Databento,\n",
    "    stores it locally as a DBN file, then uploads to S3 and deletes the file.\n",
    "    \"\"\"\n",
    "    # Create a new live client each batch\n",
    "    client = db.Live(key=databento_api_key)\n",
    "    \n",
    "    # Subscribe to 1-minute OHLCV data for ES futures\n",
    "    client.subscribe(\n",
    "        dataset=\"GLBX.MDP3\",\n",
    "        schema=\"ohlcv-1m\",\n",
    "        stype_in=\"continuous\",\n",
    "        symbols=[\"ES.c.0\"],  # Adjust symbols as needed\n",
    "    )\n",
    "    \n",
    "    # Create a timestamped file name for the DBN file\n",
    "    timestamp_str = datetime.utcnow().strftime(\"%Y%m%dT%H%M%SZ\")\n",
    "    local_filename = f\"dbn_{timestamp_str}.dbn\"\n",
    "    \n",
    "    # Configure the client to write the data stream to this local file\n",
    "    client.add_stream(local_filename)\n",
    "    \n",
    "    # Start streaming\n",
    "    client.start()\n",
    "    \n",
    "    # Block for batch_duration seconds, then close\n",
    "    client.block_for_close(timeout=batch_duration)\n",
    "    \n",
    "    # After streaming finishes, optionally read the DBN file to verify\n",
    "    # (Comment this out if you don't need to verify locally)\n",
    "    # store = db.DBNStore.from_file(local_filename)\n",
    "    # df = store.to_df(schema=\"ohlcv-1m\")\n",
    "    # print(f\"Batch {timestamp_str} has {len(df)} rows of data.\")\n",
    "    \n",
    "    # Upload the DBN file to S3\n",
    "    s3_key = f\"{s3_folder}/{local_filename}\"\n",
    "    s3_client = boto3.client(\"s3\")\n",
    "    try:\n",
    "        s3_client.upload_file(local_filename, s3_bucket, s3_key)\n",
    "        print(f\"[{datetime.utcnow()}] Uploaded {local_filename} to s3://{s3_bucket}/{s3_key}\")\n",
    "    except Exception as e:\n",
    "        print(\"Error uploading to S3:\", e)\n",
    "    \n",
    "    # Remove local file\n",
    "    try:\n",
    "        os.remove(local_filename)\n",
    "        print(f\"[{datetime.utcnow()}] Deleted local file {local_filename}.\")\n",
    "    except Exception as e:\n",
    "        print(\"Error deleting local file:\", e)\n",
    "\n",
    "###############################\n",
    "# Main Loop\n",
    "###############################\n",
    "\n",
    "def main():\n",
    "    \"\"\"\n",
    "    Continuously run 15-minute streaming batches, one after another.\n",
    "    \"\"\"\n",
    "    while True:\n",
    "        print(f\"[{datetime.utcnow()}] Starting a new 15-minute batch...\")\n",
    "        run_single_batch()\n",
    "        # If you want a pause between batches, add time.sleep(seconds) here\n",
    "        # e.g. time.sleep(60) to wait 1 minute before next batch\n",
    "\n",
    "if __name__ == \"__main__\":\n",
    "    main()"
   ]
  },
  {
   "cell_type": "code",
   "execution_count": null,
   "metadata": {},
   "outputs": [],
   "source": [
    "from dotenv import load_dotenv\n",
    "\n",
    "load_dotenv()\n",
    "# Retrieve the API key from the environment variable\n",
    "databento_api_key = os.getenv(\"DATABENTO_API_KEY\")\n",
    "if not databento_api_key:\n",
    "    raise ValueError(\"Please set the DATABENTO_API_KEY environment variable.\")"
   ]
  },
  {
   "cell_type": "code",
   "execution_count": null,
   "metadata": {},
   "outputs": [
    {
     "name": "stdout",
     "output_type": "stream",
     "text": [
      "Sleeping for 283.25 seconds until next batch store at 2025-03-04 18:20:00 UTC.\n"
     ]
    }
   ],
   "source": [
    "import databento as db\n",
    "import time\n",
    "from datetime import datetime, timedelta\n",
    "import threading\n",
    "\n",
    "# Global buffer to store incoming 1-minute records for the batch period\n",
    "buffer = []\n",
    "\n",
    "def handle_message(msg):\n",
    "    \"\"\"\n",
    "    Callback function to process incoming messages.\n",
    "    For example, this processes OHLCV messages.\n",
    "    \"\"\"\n",
    "    if isinstance(msg, db.OhlcvMsg):\n",
    "        record = {\n",
    "            \"ts_event\": pd.to_datetime(msg.hd.ts_event, unit=\"ns\"),\n",
    "            \"open\": msg.open,\n",
    "            \"high\": msg.high,\n",
    "            \"low\": msg.low,\n",
    "            \"close\": msg.close,\n",
    "            \"volume\": msg.volume,\n",
    "            \"instrument_id\": msg.hd.instrument_id,\n",
    "        }\n",
    "        buffer.append(record)\n",
    "    else:\n",
    "        # Handle other message types if needed.\n",
    "        pass\n",
    "\n",
    "def store_buffer():\n",
    "    \"\"\"\n",
    "    Convert the buffered records to a DataFrame and store them (e.g. append to a CSV).\n",
    "    Then clear the buffer.\n",
    "    \"\"\"\n",
    "    global buffer\n",
    "    if buffer:\n",
    "        df_batch = pd.DataFrame(buffer)\n",
    "        # Append to CSV file; if file doesn't exist, header is written automatically.\n",
    "        # You can change the storage mechanism as needed (e.g., database insert).\n",
    "        try:\n",
    "            header = not pd.io.common.file_exists(\"5min_data.csv\")\n",
    "        except Exception:\n",
    "            header = True\n",
    "        df_batch.to_csv(\"5min_data.csv\", mode=\"a\", index=False, header=header)\n",
    "        print(f\"Stored batch of {len(buffer)} records at {datetime.utcnow()}\")\n",
    "        buffer = []\n",
    "\n",
    "def run_batch_store():\n",
    "    \"\"\"\n",
    "    Background thread that waits until the next 5-minute mark (UTC) to store the data.\n",
    "    \"\"\"\n",
    "    while True:\n",
    "        now = datetime.utcnow()\n",
    "        # Compute the next 5-minute mark:\n",
    "        # Floor current time to nearest 5-min mark and add 5 minutes.\n",
    "        minutes = (now.minute // 5) * 5\n",
    "        next_batch_time = now.replace(minute=minutes, second=0, microsecond=0) + timedelta(minutes=5)\n",
    "        sleep_seconds = (next_batch_time - now).total_seconds()\n",
    "        print(f\"Sleeping for {sleep_seconds:.2f} seconds until next batch store at {next_batch_time} UTC.\")\n",
    "        time.sleep(sleep_seconds)\n",
    "        store_buffer()\n",
    "\n",
    "# Start the background storage thread (daemon thread so it exits with main thread)\n",
    "storage_thread = threading.Thread(target=run_batch_store, daemon=True)\n",
    "storage_thread.start()\n",
    "\n",
    "# Create a live Databento client (replace with your actual API key)\n",
    "client = db.Live(key=databento_api_key)\n",
    "\n",
    "# Subscribe to 1-minute OHLCV data for ES futures.\n",
    "client.subscribe(\n",
    "    dataset=\"GLBX.MDP3\",\n",
    "    schema=\"OHLCV-1m\",\n",
    "    stype_in=\"parent\",\n",
    "    symbols=\"ES.FUT\",\n",
    ")\n",
    "\n",
    "# Set the callback to process incoming messages.\n",
    "client.add_callback(handle_message)\n",
    "\n",
    "# Start the live stream (this call is blocking).\n",
    "client.start()"
   ]
  },
  {
   "cell_type": "code",
   "execution_count": 3,
   "metadata": {},
   "outputs": [],
   "source": [
    "client.terminate()"
   ]
  },
  {
   "cell_type": "code",
   "execution_count": null,
   "metadata": {},
   "outputs": [],
   "source": []
  },
  {
   "cell_type": "code",
   "execution_count": null,
   "metadata": {},
   "outputs": [],
   "source": [
    "databento_api_key"
   ]
  },
  {
   "cell_type": "code",
   "execution_count": 5,
   "metadata": {},
   "outputs": [
    {
     "ename": "ValueError",
     "evalue": "Cannot start iteration after streaming has started, records may be missed. Don't call `Live.start` before iterating.",
     "output_type": "error",
     "traceback": [
      "\u001b[0;31m---------------------------------------------------------------------------\u001b[0m",
      "\u001b[0;31mValueError\u001b[0m                                Traceback (most recent call last)",
      "Cell \u001b[0;32mIn[5], line 1\u001b[0m\n\u001b[0;32m----> 1\u001b[0m \u001b[38;5;28;01mfor\u001b[39;00m message \u001b[38;5;129;01min\u001b[39;00m client:\n\u001b[1;32m      2\u001b[0m     \u001b[38;5;66;03m# Process each message (e.g., print or store it)\u001b[39;00m\n\u001b[1;32m      3\u001b[0m     \u001b[38;5;28mprint\u001b[39m(message)\n",
      "File \u001b[0;32m/opt/anaconda3/lib/python3.11/site-packages/databento/live/client.py:128\u001b[0m, in \u001b[0;36mLive.__iter__\u001b[0;34m(self)\u001b[0m\n\u001b[1;32m    126\u001b[0m \u001b[38;5;28;01mif\u001b[39;00m \u001b[38;5;28mself\u001b[39m\u001b[38;5;241m.\u001b[39m_session\u001b[38;5;241m.\u001b[39mis_streaming():\n\u001b[1;32m    127\u001b[0m     logger\u001b[38;5;241m.\u001b[39merror(\u001b[38;5;124m\"\u001b[39m\u001b[38;5;124miteration started after session has started\u001b[39m\u001b[38;5;124m\"\u001b[39m)\n\u001b[0;32m--> 128\u001b[0m     \u001b[38;5;28;01mraise\u001b[39;00m \u001b[38;5;167;01mValueError\u001b[39;00m(\n\u001b[1;32m    129\u001b[0m         \u001b[38;5;124m\"\u001b[39m\u001b[38;5;124mCannot start iteration after streaming has started, records may be missed. Don\u001b[39m\u001b[38;5;124m'\u001b[39m\u001b[38;5;124mt call `Live.start` before iterating.\u001b[39m\u001b[38;5;124m\"\u001b[39m,\n\u001b[1;32m    130\u001b[0m     )\n\u001b[1;32m    131\u001b[0m \u001b[38;5;28;01mreturn\u001b[39;00m LiveIterator(\u001b[38;5;28mself\u001b[39m)\n",
      "\u001b[0;31mValueError\u001b[0m: Cannot start iteration after streaming has started, records may be missed. Don't call `Live.start` before iterating."
     ]
    }
   ],
   "source": [
    "for message in client:\n",
    "    # Process each message (e.g., print or store it)\n",
    "    print(message)"
   ]
  },
  {
   "cell_type": "code",
   "execution_count": null,
   "metadata": {},
   "outputs": [],
   "source": []
  }
 ],
 "metadata": {
  "kernelspec": {
   "display_name": "Python 3 (ipykernel)",
   "language": "python",
   "name": "python3"
  },
  "language_info": {
   "codemirror_mode": {
    "name": "ipython",
    "version": 3
   },
   "file_extension": ".py",
   "mimetype": "text/x-python",
   "name": "python",
   "nbconvert_exporter": "python",
   "pygments_lexer": "ipython3",
   "version": "3.11.11"
  }
 },
 "nbformat": 4,
 "nbformat_minor": 4
}
